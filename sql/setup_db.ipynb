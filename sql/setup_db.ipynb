{
 "cells": [
  {
   "cell_type": "code",
   "execution_count": 3,
   "id": "f1a61154-3462-4ddf-8a9e-4514f65a531f",
   "metadata": {},
   "outputs": [
    {
     "name": "stdout",
     "output_type": "stream",
     "text": [
      "Database 'data\\clients.db' created and populated successfully.\n"
     ]
    }
   ],
   "source": [
    "import sqlite3\n",
    "import os # <-- IMPORT THE OS MODULE\n",
    "\n",
    "# --- START OF NEW CODE ---\n",
    "# Define the name of the folder we want to create\n",
    "DATA_DIR = 'data'\n",
    "\n",
    "# Create the data directory if it does not exist already\n",
    "os.makedirs(DATA_DIR, exist_ok=True)\n",
    "# --- END OF NEW CODE ---\n",
    "\n",
    "\n",
    "# Define the full path to the database file\n",
    "db_path = os.path.join(DATA_DIR, 'clients.db')\n",
    "\n",
    "# Connect to database (creates it if it doesn't exist)\n",
    "conn = sqlite3.connect(db_path)  # <-- USE THE FULL PATH VARIABLE\n",
    "cursor = conn.cursor()\n",
    "\n",
    "# Create table\n",
    "cursor.execute('''\n",
    "CREATE TABLE IF NOT EXISTS clients (\n",
    "    id INTEGER PRIMARY KEY AUTOINCREMENT,\n",
    "    name TEXT,\n",
    "    debt_to_equity REAL,\n",
    "    cash_flow REAL,\n",
    "    risk_flag INTEGER\n",
    ")\n",
    "''')\n",
    "\n",
    "# Clear existing data to prevent duplicates when re-running\n",
    "cursor.execute(\"DELETE FROM clients\")\n",
    "\n",
    "# Insert sample data\n",
    "sample_clients = [\n",
    "    ('Alpha Corp', 1.8, 50000, 0),\n",
    "    ('Beta Ltd', 2.5, -10000, 1),\n",
    "    ('Gamma Inc', 1.2, 20000, 0),\n",
    "    ('Delta LLC', 3.0, -5000, 1),\n",
    "    ('Epsilon Ent', 0.5, 150000, 0),\n",
    "    ('Zeta Co', 3.5, -25000, 1),\n",
    "    ('Eta Solutions', 2.1, 5000, 1),\n",
    "    ('Theta Systems', 1.5, 80000, 0)\n",
    "]\n",
    "\n",
    "cursor.executemany('''\n",
    "INSERT INTO clients (name, debt_to_equity, cash_flow, risk_flag)\n",
    "VALUES (?, ?, ?, ?)\n",
    "''', sample_clients)\n",
    "\n",
    "conn.commit()\n",
    "conn.close()\n",
    "\n",
    "print(f\"Database '{db_path}' created and populated successfully.\")"
   ]
  },
  {
   "cell_type": "code",
   "execution_count": null,
   "id": "a2597aca-1203-4804-920f-8fef557a7cf4",
   "metadata": {},
   "outputs": [],
   "source": []
  }
 ],
 "metadata": {
  "kernelspec": {
   "display_name": "Python 3 (ipykernel)",
   "language": "python",
   "name": "python3"
  },
  "language_info": {
   "codemirror_mode": {
    "name": "ipython",
    "version": 3
   },
   "file_extension": ".py",
   "mimetype": "text/x-python",
   "name": "python",
   "nbconvert_exporter": "python",
   "pygments_lexer": "ipython3",
   "version": "3.13.7"
  }
 },
 "nbformat": 4,
 "nbformat_minor": 5
}
