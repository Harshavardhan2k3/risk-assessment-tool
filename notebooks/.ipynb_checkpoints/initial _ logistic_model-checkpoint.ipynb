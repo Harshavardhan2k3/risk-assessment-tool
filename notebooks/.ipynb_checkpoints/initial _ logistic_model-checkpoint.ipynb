{
 "cells": [
  {
   "cell_type": "code",
   "execution_count": 2,
   "id": "e921e31f-19dc-435e-9cbf-613f9bb90c9c",
   "metadata": {},
   "outputs": [],
   "source": [
    "# Here are using the logistic regression is a supervised machine learning model using for binary classification, This likely predicts whether something belongs to class 0 or class 1 \n",
    "# its called regression because it caluclates all the probabilities but used for classification...\n",
    "# logistic regression outputs a probability between 0 and 1. That probability is then converted into a class label (0 or 1) based on a threshold (usually 0.5).\n",
    "# It uses the sigmoid function to map values..\n",
    "# logistic regression maps the client features → to a risk probability"
   ]
  },
  {
   "cell_type": "code",
   "execution_count": 3,
   "id": "220dbd41-17f8-4504-a21f-ace4d922a229",
   "metadata": {},
   "outputs": [
    {
     "ename": "OperationalError",
     "evalue": "unable to open database file",
     "output_type": "error",
     "traceback": [
      "\u001b[31m---------------------------------------------------------------------------\u001b[39m",
      "\u001b[31mOperationalError\u001b[39m                          Traceback (most recent call last)",
      "\u001b[36mCell\u001b[39m\u001b[36m \u001b[39m\u001b[32mIn[3]\u001b[39m\u001b[32m, line 9\u001b[39m\n\u001b[32m      6\u001b[39m \u001b[38;5;28;01mfrom\u001b[39;00m\u001b[38;5;250m \u001b[39m\u001b[34;01msklearn\u001b[39;00m\u001b[34;01m.\u001b[39;00m\u001b[34;01mmetrics\u001b[39;00m\u001b[38;5;250m \u001b[39m\u001b[38;5;28;01mimport\u001b[39;00m accuracy_score\n\u001b[32m      8\u001b[39m \u001b[38;5;66;03m# Here we the Load data from SQLite\u001b[39;00m\n\u001b[32m----> \u001b[39m\u001b[32m9\u001b[39m conn = \u001b[43msqlite3\u001b[49m\u001b[43m.\u001b[49m\u001b[43mconnect\u001b[49m\u001b[43m(\u001b[49m\u001b[33;43m'\u001b[39;49m\u001b[33;43mdata/clients.db\u001b[39;49m\u001b[33;43m'\u001b[39;49m\u001b[43m)\u001b[49m\n\u001b[32m     10\u001b[39m df = pd.read_sql_query(\u001b[33m\"\u001b[39m\u001b[33mSELECT debt_to_equity, cash_flow, risk_flag FROM clients\u001b[39m\u001b[33m\"\u001b[39m, conn)\n\u001b[32m     11\u001b[39m conn.close()\n",
      "\u001b[31mOperationalError\u001b[39m: unable to open database file"
     ]
    }
   ],
   "source": [
    "import os\n",
    "print(\"Current Working Directory:\", os.getcwd())\n",
    "import pandas as pd # this library is used for data analysis and data manipulation\n",
    "import sqlite3 # this library is used to connect the database and also perfom action on it and extract data from it \n",
    "import joblib # this library is used for parallel processing and Saves and loads trained models efficiently.\n",
    "from sklearn.linear_model import LogisticRegression #Builds and evaluates machine learning models\n",
    "from sklearn.model_selection import train_test_split\n",
    "from sklearn.metrics import accuracy_score\n",
    "\n",
    "# Here we the Load data from SQLite\n",
    "conn = sqlite3.connect('data/clients.db')\n",
    "df = pd.read_sql_query(\"SELECT debt_to_equity, cash_flow, risk_flag FROM clients\", conn)\n",
    "conn.close()\n",
    "\n",
    "# Split features and target\n",
    "X = df[['debt_to_equity', 'cash_flow']] # x is input feature....\n",
    "y = df['risk_flag'] # y is the target label: actual risk outcome : 0 = low risk , 1 = high risk....\n",
    "\n",
    "# Train-test split\n",
    "X_train, X_test, y_train, y_test = train_test_split(X, y, test_size=0.25, random_state=42) # 75% data used for training and 25% for testing...\n",
    "\n",
    "# Train model\n",
    "model = LogisticRegression()\n",
    "model.fit(X_train, y_train)\n",
    "\n",
    "# Evaluate\n",
    "y_pred = model.predict(X_test)\n",
    "print(\"Accuracy:\", accuracy_score(y_test, y_pred)) # tells us how well our model is \n",
    "\n",
    "# Save model\n",
    "joblib.dump(model,'models/logistic_model.pkl')"
   ]
  },
  {
   "cell_type": "code",
   "execution_count": null,
   "id": "2b592dfb-5724-43d0-8eeb-5fee2c056981",
   "metadata": {},
   "outputs": [],
   "source": [
    "# Why Logistic Regression?\n",
    "# - Simple         : Easy to implement and understand\n",
    "# - Explainable    : Coefficients clearly show how each feature affects risk\n",
    "# - Probabilistic  : Outputs risk probability between 0 and 1 — ideal for scoring\n",
    "# - Fast           : Lightweight and quick to train, even on large datasets\n",
    "# - Business-friendly: Preferred in domains like finance where interpretability matters\n",
    "#\n",
    "# Note:\n",
    "# While advanced models like XGBoost can potentially provide higher accuracy,\n",
    "# we are starting with Logistic Regression for its transparency and speed.\n",
    "# Future enhancements may include more complex models if needed."
   ]
  }
 ],
 "metadata": {
  "kernelspec": {
   "display_name": "Python 3 (ipykernel)",
   "language": "python",
   "name": "python3"
  },
  "language_info": {
   "codemirror_mode": {
    "name": "ipython",
    "version": 3
   },
   "file_extension": ".py",
   "mimetype": "text/x-python",
   "name": "python",
   "nbconvert_exporter": "python",
   "pygments_lexer": "ipython3",
   "version": "3.13.7"
  }
 },
 "nbformat": 4,
 "nbformat_minor": 5
}
