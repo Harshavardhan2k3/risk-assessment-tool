{
 "cells": [
  {
   "cell_type": "code",
   "execution_count": 2,
   "id": "e921e31f-19dc-435e-9cbf-613f9bb90c9c",
   "metadata": {},
   "outputs": [],
   "source": [
    "# Here are using the logistic regression is a supervised machine learning model using for binary classification, This likely predicts whether something belongs to class 0 or class 1 \n",
    "# its called regression because it caluclates all the probabilities but used for classification...\n",
    "# logistic regression outputs a probability between 0 and 1. That probability is then converted into a class label (0 or 1) based on a threshold (usually 0.5).\n",
    "# It uses the sigmoid function to map values..\n",
    "# logistic regression maps the client features → to a risk probability"
   ]
  },
  {
   "cell_type": "code",
   "execution_count": 1,
   "id": "220dbd41-17f8-4504-a21f-ace4d922a229",
   "metadata": {},
   "outputs": [
    {
     "name": "stdout",
     "output_type": "stream",
     "text": [
      "Original working directory: C:\\Users\\nooka\\Desktop\\risk_assessment_tool\\notebooks\n",
      "New working directory: C:\\Users\\nooka\\Desktop\\risk_assessment_tool\n",
      "Accuracy: 1.0\n",
      "Model saved successfully to models/logistic_model.pkl\n"
     ]
    }
   ],
   "source": [
    "import os\n",
    "\n",
    "# --- THIS IS THE FIX ---\n",
    "# Print the directory we are currently in\n",
    "print(f\"Original working directory: {os.getcwd()}\")\n",
    "\n",
    "# Change the working directory to the parent folder (the project root)\n",
    "# This makes sure that paths like 'data/clients.db' work correctly.\n",
    "os.chdir('../')\n",
    "\n",
    "# Print the new directory to confirm the change was successful\n",
    "print(f\"New working directory: {os.getcwd()}\")\n",
    "# --- END OF FIX ---\n",
    "\n",
    "\n",
    "# Now the rest of your original code will work perfectly\n",
    "import pandas as pd\n",
    "import sqlite3\n",
    "import joblib\n",
    "from sklearn.linear_model import LogisticRegression\n",
    "from sklearn.model_selection import train_test_split\n",
    "from sklearn.metrics import accuracy_score\n",
    "\n",
    "# Here we the Load data from SQLite\n",
    "conn = sqlite3.connect('data/clients.db')\n",
    "df = pd.read_sql_query(\"SELECT debt_to_equity, cash_flow, risk_flag FROM clients\", conn)\n",
    "conn.close()\n",
    "\n",
    "# Split features and target\n",
    "X = df[['debt_to_equity', 'cash_flow']]\n",
    "y = df['risk_flag']\n",
    "\n",
    "# Train-test split\n",
    "X_train, X_test, y_train, y_test = train_test_split(X, y, test_size=0.25, random_state=42)\n",
    "\n",
    "# Train model\n",
    "model = LogisticRegression()\n",
    "model.fit(X_train, y_train)\n",
    "\n",
    "# Evaluate\n",
    "y_pred = model.predict(X_test)\n",
    "print(f\"Accuracy: {accuracy_score(y_test, y_pred)}\")\n",
    "\n",
    "# Save model\n",
    "joblib.dump(model, 'models/logistic_model.pkl')\n",
    "print(\"Model saved successfully to models/logistic_model.pkl\")"
   ]
  },
  {
   "cell_type": "code",
   "execution_count": null,
   "id": "2b592dfb-5724-43d0-8eeb-5fee2c056981",
   "metadata": {},
   "outputs": [],
   "source": [
    "# Why Logistic Regression?\n",
    "# - Simple         : Easy to implement and understand\n",
    "# - Explainable    : Coefficients clearly show how each feature affects risk\n",
    "# - Probabilistic  : Outputs risk probability between 0 and 1 — ideal for scoring\n",
    "# - Fast           : Lightweight and quick to train, even on large datasets\n",
    "# - Business-friendly: Preferred in domains like finance where interpretability matters\n",
    "#\n",
    "# Note:\n",
    "# While advanced models like XGBoost can potentially provide higher accuracy,\n",
    "# we are starting with Logistic Regression for its transparency and speed.\n",
    "# Future enhancements may include more complex models if needed."
   ]
  }
 ],
 "metadata": {
  "kernelspec": {
   "display_name": "Python 3 (ipykernel)",
   "language": "python",
   "name": "python3"
  },
  "language_info": {
   "codemirror_mode": {
    "name": "ipython",
    "version": 3
   },
   "file_extension": ".py",
   "mimetype": "text/x-python",
   "name": "python",
   "nbconvert_exporter": "python",
   "pygments_lexer": "ipython3",
   "version": "3.13.7"
  }
 },
 "nbformat": 4,
 "nbformat_minor": 5
}
