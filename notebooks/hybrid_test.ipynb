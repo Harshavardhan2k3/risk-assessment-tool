{
 "cells": [
  {
   "cell_type": "code",
   "execution_count": 1,
   "id": "0c23efce-a069-4566-b4ea-0d86553fbc06",
   "metadata": {},
   "outputs": [
    {
     "name": "stdout",
     "output_type": "stream",
     "text": [
      "Current working directory: C:\\Users\\nooka\\Desktop\\risk_assessment_tool\n",
      "--- Starting Hybrid Score Tests ---\n",
      "\n",
      "Test Case 1:\n",
      "{'model': 'High Risk', 'confidence': np.float64(1.0), 'rule': 'High Risk (Rule: Excessive debt)', 'final': 'High Risk'}\n",
      "\n",
      "Test Case 2:\n",
      "{'model': 'Low Risk', 'confidence': np.float64(1.0), 'rule': 'Low Risk (Rule: Strong financials)', 'final': 'Low Risk'}\n",
      "\n",
      "Test Case 3:\n",
      "{'model': 'High Risk', 'confidence': np.float64(1.0), 'rule': 'Medium Risk (Rule: borderline case)', 'final': 'High Risk'}\n",
      "\n",
      "Test Case 4:\n",
      "{'model': 'High Risk', 'confidence': np.float64(1.0), 'rule': 'High Risk (Rule: Negative cash flow)', 'final': 'High Risk'}\n",
      "\n"
     ]
    },
    {
     "name": "stderr",
     "output_type": "stream",
     "text": [
      "C:\\Users\\nooka\\Desktop\\risk_assessment_tool\\venv\\Lib\\site-packages\\sklearn\\utils\\validation.py:2749: UserWarning: X does not have valid feature names, but LogisticRegression was fitted with feature names\n",
      "  warnings.warn(\n",
      "C:\\Users\\nooka\\Desktop\\risk_assessment_tool\\venv\\Lib\\site-packages\\sklearn\\utils\\validation.py:2749: UserWarning: X does not have valid feature names, but LogisticRegression was fitted with feature names\n",
      "  warnings.warn(\n",
      "C:\\Users\\nooka\\Desktop\\risk_assessment_tool\\venv\\Lib\\site-packages\\sklearn\\utils\\validation.py:2749: UserWarning: X does not have valid feature names, but LogisticRegression was fitted with feature names\n",
      "  warnings.warn(\n",
      "C:\\Users\\nooka\\Desktop\\risk_assessment_tool\\venv\\Lib\\site-packages\\sklearn\\utils\\validation.py:2749: UserWarning: X does not have valid feature names, but LogisticRegression was fitted with feature names\n",
      "  warnings.warn(\n",
      "C:\\Users\\nooka\\Desktop\\risk_assessment_tool\\venv\\Lib\\site-packages\\sklearn\\utils\\validation.py:2749: UserWarning: X does not have valid feature names, but LogisticRegression was fitted with feature names\n",
      "  warnings.warn(\n",
      "C:\\Users\\nooka\\Desktop\\risk_assessment_tool\\venv\\Lib\\site-packages\\sklearn\\utils\\validation.py:2749: UserWarning: X does not have valid feature names, but LogisticRegression was fitted with feature names\n",
      "  warnings.warn(\n",
      "C:\\Users\\nooka\\Desktop\\risk_assessment_tool\\venv\\Lib\\site-packages\\sklearn\\utils\\validation.py:2749: UserWarning: X does not have valid feature names, but LogisticRegression was fitted with feature names\n",
      "  warnings.warn(\n",
      "C:\\Users\\nooka\\Desktop\\risk_assessment_tool\\venv\\Lib\\site-packages\\sklearn\\utils\\validation.py:2749: UserWarning: X does not have valid feature names, but LogisticRegression was fitted with feature names\n",
      "  warnings.warn(\n"
     ]
    }
   ],
   "source": [
    "import os\n",
    "if os.path.basename(os.getcwd()) == 'notebooks':\n",
    " os.chdir('../')\n",
    "print(f\"Current working directory: {os.getcwd()}\")\n",
    "from logic.hybrid_score import hybrid_risk_score  # Import the hybrid scoring function\n",
    "print(\"--- Starting Hybrid Score Tests ---\")\n",
    "print()\n",
    "#  Test Case 1: High debt, negative cash flow\n",
    "result1 = hybrid_risk_score(3.5, -8000)\n",
    "print(\"Test Case 1:\")\n",
    "print(result1)\n",
    "print()\n",
    "\n",
    "#  Test Case 2: Low debt, strong cash flow\n",
    "result2 = hybrid_risk_score(1.2, 15000)\n",
    "print(\"Test Case 2:\")\n",
    "print(result2)\n",
    "print()\n",
    "\n",
    "#  Test Case 3: Moderate debt, borderline cash flow\n",
    "result3 = hybrid_risk_score(2.1, 5000)\n",
    "print(\"Test Case 3:\")\n",
    "print(result3)\n",
    "print()\n",
    "\n",
    "#  Test Case 4: Model vs Rule conflict\n",
    "result4 = hybrid_risk_score(2.5, -1000)\n",
    "print(\"Test Case 4:\")\n",
    "print(result4)\n",
    "print()\n"
   ]
  },
  {
   "cell_type": "code",
   "execution_count": null,
   "id": "720ca402-8081-45d4-a166-499eab5e2db8",
   "metadata": {},
   "outputs": [],
   "source": []
  }
 ],
 "metadata": {
  "kernelspec": {
   "display_name": "Python 3 (ipykernel)",
   "language": "python",
   "name": "python3"
  },
  "language_info": {
   "codemirror_mode": {
    "name": "ipython",
    "version": 3
   },
   "file_extension": ".py",
   "mimetype": "text/x-python",
   "name": "python",
   "nbconvert_exporter": "python",
   "pygments_lexer": "ipython3",
   "version": "3.13.7"
  }
 },
 "nbformat": 4,
 "nbformat_minor": 5
}
